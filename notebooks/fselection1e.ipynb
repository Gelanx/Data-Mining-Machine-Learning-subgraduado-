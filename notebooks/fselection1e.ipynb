{
 "cells": [
  {
   "cell_type": "markdown",
   "metadata": {},
   "source": [
    "### Data Mining and Machine Learning\n",
    "\n",
    "### Feature Selection in Supervised Classification\n",
    "\n",
    "### Edgar Acuna\n",
    "\n",
    "#### Febrero 2021\n",
    "\n",
    "##### Use of modules: feature_selection from scikit-learn, skrebate, Orange and some functions from scikit- featue library form ASU \n"
   ]
  },
  {
   "cell_type": "code",
   "execution_count": 137,
   "metadata": {},
   "outputs": [],
   "source": [
    "import warnings\n",
    "warnings.filterwarnings(\"ignore\")\n",
    "import pandas as pd\n",
    "import numpy as np\n",
    "import math as m\n",
    "from sklearn.model_selection import train_test_split\n",
    "from sklearn.feature_selection import SelectKBest\n",
    "from sklearn.feature_selection import chi2, SelectPercentile, f_classif, mutual_info_classif\n",
    "import matplotlib.pyplot as plt\n",
    "import seaborn as sns\n",
    "%matplotlib inline"
   ]
  },
  {
   "cell_type": "markdown",
   "metadata": {},
   "source": [
    "### I. Feature Selection by Visualization using boxplots\n",
    "#### Example 1: Diabetes dataset"
   ]
  },
  {
   "cell_type": "code",
   "execution_count": 138,
   "metadata": {},
   "outputs": [],
   "source": [
    "url= \"http://academic.uprm.edu/eacuna/diabetes.dat\"\n",
    "names = ['preg', 'plas', 'pres', 'skin', 'test', 'mass', 'pedi', 'age', 'class']\n",
    "data = pd.read_table(url, names=names,header=None)\n",
    "y=data['class']\n",
    "X=data.iloc[:,0:8]"
   ]
  },
  {
   "cell_type": "code",
   "execution_count": 133,
   "metadata": {},
   "outputs": [
    {
     "name": "stdout",
     "output_type": "stream",
     "text": [
      "(768, 9)\n"
     ]
    }
   ],
   "source": [
    "print(data.shape)\n",
    "data.head()\n",
    "#normalizando los datos\n",
    "data1=data.drop('class',axis=1)\n",
    "data1_norm=(data1 - data1.min()) / (data1.max() - data1.min())\n",
    "data1_norm['class']=data['class']"
   ]
  },
  {
   "cell_type": "code",
   "execution_count": 134,
   "metadata": {},
   "outputs": [
    {
     "data": {
      "text/plain": [
       "<seaborn.axisgrid.FacetGrid at 0x29ca5ab1d08>"
      ]
     },
     "execution_count": 134,
     "metadata": {},
     "output_type": "execute_result"
    },
    {
     "data": {
      "text/plain": [
       "<Figure size 720x3600 with 0 Axes>"
      ]
     },
     "metadata": {},
     "output_type": "display_data"
    },
    {
     "data": {
      "image/png": "[encoded data removed]",
      "text/plain": [
       "<Figure size 402.375x360 with 1 Axes>"
      ]
     },
     "metadata": {
      "needs_background": "light"
     },
     "output_type": "display_data"
    }
   ],
   "source": [
    "plt.figure(figsize=(10,50))\n",
    "df_long = pd.melt(data1_norm, \"class\", var_name=\"a\", value_name=\"c\")\n",
    "sns.factorplot(\"a\", hue=\"class\", y=\"c\", data=df_long, kind=\"box\")"
   ]
  },
  {
   "cell_type": "markdown",
   "metadata": {},
   "source": [
    "Comment: From the boxplots we can see  that features: plas, age,preg,press and mass have boxplot not so overlaped"
   ]
  },
  {
   "cell_type": "markdown",
   "metadata": {},
   "source": [
    "### II. Feature selection Statistical Meaasures\n",
    "#### II-1. Chi-Square Test"
   ]
  },
  {
   "cell_type": "markdown",
   "metadata": {},
   "source": [
    "It is desirable to have discretized attributes and two classes. I do not recommend \n",
    "to use this method because the Chi-Square test is approximated and it is not robust."
   ]
  },
  {
   "cell_type": "code",
   "execution_count": 135,
   "metadata": {},
   "outputs": [],
   "source": [
    "y=data['class']\n",
    "X=data.iloc[:,0:8]"
   ]
  },
  {
   "cell_type": "code",
   "execution_count": 136,
   "metadata": {},
   "outputs": [],
   "source": [
    "# Funcion auxiliar para discretizar cualquier columna de un dataframe\n",
    "def disc_col_ew(df,str,k,out):\n",
    "    df1=df[str]\n",
    "    bins=np.linspace(df1.min(), df1.max(),k)\n",
    "    if out==\"num\":\n",
    "        df1=pd.cut(df1,bins=bins,include_lowest=True, right=True,labels=False)\n",
    "    else:\n",
    "        bins[0]=float('-inf')\n",
    "        bins[k-1]=float('inf')\n",
    "        df1=pd.cut(df1,bins=bins,include_lowest=True, right=True)  \n",
    "    return df1\n",
    "# funcion auxiliar para determinar el numero optimo de intervalos segun la formula de scott\n",
    "def nclass_scott(x):\n",
    "    h=3.5*(np.var(x,ddof=1)**.5)*len(x)**(-.3333)\n",
    "    intervals=m.ceil((max(x)-min(x))/h)\n",
    "    return int(intervals)"
   ]
  },
  {
   "cell_type": "code",
   "execution_count": 102,
   "metadata": {},
   "outputs": [],
   "source": [
    "#Funcion para discretizar todas las colunmnas de un dataframe\n",
    "def disc_ew(df,out):\n",
    "    name=df.columns.tolist()\n",
    "    disc=pd.DataFrame()\n",
    "    for name in df.columns.tolist():\n",
    "        k=nclass_scott(df[name])\n",
    "        disc[name]=disc_col_ew(df,name,k,out)\n",
    "    return disc"
   ]
  },
  {
   "cell_type": "code",
   "execution_count": 103,
   "metadata": {},
   "outputs": [],
   "source": [
    "#discretizando las columnas de la matriz predictora X de diabetes\n",
    "diab_disc=disc_ew(X,out=\"num\")"
   ]
  },
  {
   "cell_type": "code",
   "execution_count": 104,
   "metadata": {},
   "outputs": [
    {
     "name": "stdout",
     "output_type": "stream",
     "text": [
      "[105.387 120.206   2.87   10.086  59.232  42.746  62.639 115.924]\n",
      "[[ 4 11  6]\n",
      " [ 0  6  2]\n",
      " [ 6 14  2]\n",
      " ...\n",
      " [ 3  9  1]\n",
      " [ 0 10  5]\n",
      " [ 0  7  0]]\n"
     ]
    }
   ],
   "source": [
    "#Choosing the best features with Chi-square and scikit-learn\n",
    "y1=y.to_numpy()\n",
    "X1=diab_disc.to_numpy()\n",
    "test = SelectKBest(score_func=chi2, k=3)\n",
    "fit = test.fit(X1, y1)\n",
    "# summarize scores\n",
    "np.set_printoptions(precision=3)\n",
    "print(fit.scores_)\n",
    "features= fit.transform(X1)\n",
    "# Imprime los datos de las tres mejores features\n",
    "print(features)"
   ]
  },
  {
   "cell_type": "markdown",
   "metadata": {},
   "source": [
    "Comentario: Las tres mejores variables con la prueba de Chi-square son plas, age y preg por tener el Chi-Square mas alto."
   ]
  },
  {
   "cell_type": "markdown",
   "metadata": {},
   "source": [
    "#### II-2. Using the F test   \n",
    "\n",
    "Se puede usar la libreria sciki-learn o la libreria de la ASU"
   ]
  },
  {
   "cell_type": "code",
   "execution_count": 140,
   "metadata": {},
   "outputs": [
    {
     "name": "stdout",
     "output_type": "stream",
     "text": [
      "[0.221 1.    0.027 0.034 0.084 0.378 0.14  0.253]\n",
      "[[148.   33.6  50. ]\n",
      " [ 85.   26.6  31. ]\n",
      " [183.   23.3  32. ]\n",
      " ...\n",
      " [121.   26.2  30. ]\n",
      " [126.   30.1  47. ]\n",
      " [ 93.   30.4  23. ]]\n"
     ]
    }
   ],
   "source": [
    "# Selecion  de Features usando los p-values de la F-test como score\n",
    "# Aqui usamos scikit-learn y se selecciona el 30% de deatures con el mas alto score\n",
    "selector = SelectPercentile(f_classif, percentile=30)\n",
    "fit=selector.fit(X, y)\n",
    "scores = -np.log10(selector.pvalues_)\n",
    "scores /= scores.max()\n",
    "print(scores)\n",
    "features= fit.transform(X)\n",
    "# Imprime los datos de las tres mejores features\n",
    "print(features)"
   ]
  },
  {
   "cell_type": "markdown",
   "metadata": {},
   "source": [
    "Comentario: Las tres, mejores variables con la prueba de F son plas,mass y age"
   ]
  },
  {
   "cell_type": "code",
   "execution_count": 141,
   "metadata": {},
   "outputs": [],
   "source": [
    "import numpy as np\n",
    "from sklearn.feature_selection import f_classif\n",
    "\n",
    "\n",
    "def f_score(X, y):\n",
    "    \"\"\"\n",
    "    This function implements the anova f_value feature selection (existing method for classification in scikit-learn),\n",
    "    where f_score = sum((ni/(c-1))*(mean_i - mean)^2)/((1/(n - c))*sum((ni-1)*std_i^2))\n",
    "    Input\n",
    "    -----\n",
    "    X: {numpy array}, shape (n_samples, n_features)\n",
    "        input data\n",
    "    y : {numpy array},shape (n_samples,)\n",
    "        input class labels\n",
    "    Output\n",
    "    ------\n",
    "    F: {numpy array}, shape (n_features,)\n",
    "        f-score for each feature\n",
    "    \"\"\"\n",
    "\n",
    "    F, pval = f_classif(X, y)\n",
    "    return F\n",
    "\n",
    "\n",
    "def feature_ranking(F):\n",
    "    \"\"\"\n",
    "    Rank features in descending order according to f-score, the higher the f-score, the more important the feature is\n",
    "    \"\"\"\n",
    "    idx = np.argsort(F)\n",
    "    return idx[::-1]"
   ]
  },
  {
   "cell_type": "code",
   "execution_count": 142,
   "metadata": {},
   "outputs": [
    {
     "name": "stdout",
     "output_type": "stream",
     "text": [
      "[ 39.67  213.162   3.257   4.304  13.281  71.772  23.871  46.141] [1 5 7 0 6 4 3 2]\n"
     ]
    }
   ],
   "source": [
    "scoref =f_score(X, y)\n",
    "idx = feature_ranking(scoref)\n",
    "print(scoref,idx)"
   ]
  },
  {
   "cell_type": "markdown",
   "metadata": {},
   "source": [
    "Comentario: las tres variables mas importantes con la prueba de F son: plas,mass y age"
   ]
  },
  {
   "cell_type": "markdown",
   "metadata": {},
   "source": [
    "### III- Using Information measures\n",
    "\n",
    "#### Mutual Information (Entropia)\n",
    "\n",
    "Using the scikit-learn module\n"
   ]
  },
  {
   "cell_type": "code",
   "execution_count": 143,
   "metadata": {},
   "outputs": [
    {
     "name": "stdout",
     "output_type": "stream",
     "text": [
      "[0.443 1.    0.142 0.173 0.395 0.556 0.088 0.54 ]\n"
     ]
    }
   ],
   "source": [
    "# Univariate feature selection with Mutual Information\n",
    "scores = mutual_info_classif(X,y)\n",
    "scores /= scores.max()\n",
    "print(scores)"
   ]
  },
  {
   "cell_type": "markdown",
   "metadata": {},
   "source": [
    "#### Comentario: Las tres variables usando el criterio de Mutual Information son: plas, mass y age\n",
    "\n",
    "### IV-Using ReliefF to select the best features \n",
    "\n",
    "#### IV-I Using the skrebate module "
   ]
  },
  {
   "cell_type": "code",
   "execution_count": 148,
   "metadata": {},
   "outputs": [],
   "source": [
    "from skrebate import ReliefF\n",
    "\n",
    "df=data.drop('class',axis=1)\n",
    "#Normalizando las predictoras\n",
    "df_norm=(df - df.min()) / (df.max() - df.min())\n",
    "features, labels = df_norm.values, data['class'].values"
   ]
  },
  {
   "cell_type": "code",
   "execution_count": 149,
   "metadata": {},
   "outputs": [
    {
     "name": "stdout",
     "output_type": "stream",
     "text": [
      "preg 0.011557904411764679\n",
      "plas 0.027526957705192593\n",
      "pres 0.005626707650273222\n",
      "skin 0.012511837121212118\n",
      "test 0.004258551270685579\n",
      "mass 0.015538065076999513\n",
      "pedi 0.007962389695417026\n",
      "age 0.009900173611111106\n"
     ]
    }
   ],
   "source": [
    "fs = ReliefF(n_neighbors=10)\n",
    "fs.fit(features, labels)\n",
    "for feature_name, feature_score in zip(data.columns,fs.feature_importances_):\n",
    "    print (feature_name, feature_score)"
   ]
  },
  {
   "cell_type": "markdown",
   "metadata": {},
   "source": [
    "Comentario: las tres variables mas importantes con el ReliefF son: plas,mass y skin\n",
    "\n",
    "#### IV-2 Using the ReliefF function from the feature selection module form the ASU"
   ]
  },
  {
   "cell_type": "code",
   "execution_count": 150,
   "metadata": {},
   "outputs": [],
   "source": [
    "import numpy as np\n",
    "from sklearn.metrics.pairwise import pairwise_distances\n",
    "\n",
    "\n",
    "def reliefF(X, y, **kwargs):\n",
    "    \"\"\"\n",
    "    This function implements the reliefF feature selection\n",
    "    Input\n",
    "    -----\n",
    "    X: {numpy array}, shape (n_samples, n_features)\n",
    "        input data\n",
    "    y: {numpy array}, shape (n_samples,)\n",
    "        input class labels\n",
    "    kwargs: {dictionary}\n",
    "        parameters of reliefF:\n",
    "        k: {int}\n",
    "            choices for the number of neighbors (default k = 5)\n",
    "    Output\n",
    "    ------\n",
    "    score: {numpy array}, shape (n_features,)\n",
    "        reliefF score for each feature\n",
    "    Reference\n",
    "    ---------\n",
    "    Robnik-Sikonja, Marko et al. \"Theoretical and empirical analysis of relieff and rrelieff.\" Machine Learning 2003.\n",
    "    Zhao, Zheng et al. \"On Similarity Preserving Feature Selection.\" TKDE 2013.\n",
    "    \"\"\"\n",
    "\n",
    "    if \"k\" not in kwargs.keys():\n",
    "        k = 5\n",
    "    else:\n",
    "        k = kwargs[\"k\"]\n",
    "    n_samples, n_features = X.shape\n",
    "\n",
    "    # calculate pairwise distances between instances\n",
    "    distance = pairwise_distances(X, metric='manhattan')\n",
    "\n",
    "    score = np.zeros(n_features)\n",
    "\n",
    "    # the number of sampled instances is equal to the number of total instances\n",
    "    for idx in range(n_samples):\n",
    "        near_hit = []\n",
    "        near_miss = dict()\n",
    "\n",
    "        self_fea = X[idx, :]\n",
    "        c = np.unique(y).tolist()\n",
    "\n",
    "        stop_dict = dict()\n",
    "        for label in c:\n",
    "            stop_dict[label] = 0\n",
    "        del c[c.index(y[idx])]\n",
    "\n",
    "        p_dict = dict()\n",
    "        p_label_idx = float(len(y[y == y[idx]]))/float(n_samples)\n",
    "\n",
    "        for label in c:\n",
    "            p_label_c = float(len(y[y == label]))/float(n_samples)\n",
    "            p_dict[label] = p_label_c/(1-p_label_idx)\n",
    "            near_miss[label] = []\n",
    "\n",
    "        distance_sort = []\n",
    "        distance[idx, idx] = np.max(distance[idx, :])\n",
    "\n",
    "        for i in range(n_samples):\n",
    "            distance_sort.append([distance[idx, i], int(i), y[i]])\n",
    "        distance_sort.sort(key=lambda x: x[0])\n",
    "\n",
    "        for i in range(n_samples):\n",
    "            # find k nearest hit points\n",
    "            if distance_sort[i][2] == y[idx]:\n",
    "                if len(near_hit) < k:\n",
    "                    near_hit.append(distance_sort[i][1])\n",
    "                elif len(near_hit) == k:\n",
    "                    stop_dict[y[idx]] = 1\n",
    "            else:\n",
    "                # find k nearest miss points for each label\n",
    "                if len(near_miss[distance_sort[i][2]]) < k:\n",
    "                    near_miss[distance_sort[i][2]].append(distance_sort[i][1])\n",
    "                else:\n",
    "                    if len(near_miss[distance_sort[i][2]]) == k:\n",
    "                        stop_dict[distance_sort[i][2]] = 1\n",
    "            stop = True\n",
    "            for (key, value) in stop_dict.items():\n",
    "                    if value != 1:\n",
    "                        stop = False\n",
    "            if stop:\n",
    "                break\n",
    "\n",
    "        # update reliefF score\n",
    "        near_hit_term = np.zeros(n_features)\n",
    "        for ele in near_hit:\n",
    "            near_hit_term = np.array(abs(self_fea-X[ele, :]))+np.array(near_hit_term)\n",
    "\n",
    "        near_miss_term = dict()\n",
    "        for (label, miss_list) in near_miss.items():\n",
    "            near_miss_term[label] = np.zeros(n_features)\n",
    "            for ele in miss_list:\n",
    "                near_miss_term[label] = np.array(abs(self_fea-X[ele, :]))+np.array(near_miss_term[label])\n",
    "            score += near_miss_term[label]/(k*p_dict[label])\n",
    "        score -= near_hit_term/k\n",
    "    return score\n",
    "\n",
    "\n",
    "def feature_ranking(score):\n",
    "    \"\"\"\n",
    "    Rank features in descending order according to reliefF score, the higher the reliefF score, the more important the\n",
    "    feature is\n",
    "    \"\"\"\n",
    "    idx = np.argsort(score, 0)\n",
    "    return idx[::-1]\n"
   ]
  },
  {
   "cell_type": "code",
   "execution_count": 151,
   "metadata": {},
   "outputs": [
    {
     "name": "stdout",
     "output_type": "stream",
     "text": [
      "[ 230.6   2752.6    521.8    875.4   1389.8    674.06    20.236  891.6  ] [1 4 7 3 5 2 0 6]\n"
     ]
    }
   ],
   "source": [
    "y1=y.to_numpy()\n",
    "X1=X.to_numpy()\n",
    "score_relief=reliefF(X1,y1)\n",
    "feat=feature_ranking(score_relief)\n",
    "print(score_relief,feat)"
   ]
  },
  {
   "cell_type": "markdown",
   "metadata": {},
   "source": [
    " Comentario: las tres variables mas importantes con el RelieF son: plas, test y age\n",
    " "
   ]
  },
  {
   "cell_type": "markdown",
   "metadata": {},
   "source": [
    "#### IV-3  Usando el Relief de Orange"
   ]
  },
  {
   "cell_type": "code",
   "execution_count": 113,
   "metadata": {},
   "outputs": [
    {
     "name": "stdout",
     "output_type": "stream",
     "text": [
      "Feature scores for best  features (scored individually):\n",
      "0.012 preg\n",
      "0.029 plas\n",
      "0.004 pres\n",
      "0.012 skin\n",
      "0.007 test\n",
      "0.015 mass\n",
      "0.009 pedi\n",
      "0.010 age\n"
     ]
    }
   ],
   "source": [
    "import Orange\n",
    "df = Orange.data.Table(\"https://academic.uprm.edu/eacuna/diabetes.tab\")\n",
    "#ReliefF usando 10 vecinos mas cercanos y  una muestrd m=100 para updating de los pesos\n",
    "print('Feature scores for best  features (scored individually):')\n",
    "meas =Orange.preprocess.score.ReliefF(n_iterations=400,k_nearest=10)\n",
    "scores = meas(df)\n",
    "for attr, score in zip(df.domain.attributes, scores):\n",
    "    print('%.3f' % score, attr.name)"
   ]
  },
  {
   "cell_type": "code",
   "execution_count": 114,
   "metadata": {},
   "outputs": [
    {
     "data": {
      "text/plain": [
       "array([5., 8., 1., 6., 2., 7., 3., 4.])"
      ]
     },
     "execution_count": 114,
     "metadata": {},
     "output_type": "execute_result"
    }
   ],
   "source": [
    "#ordenando los scores\n",
    "import scipy.stats as ss\n",
    "ss.rankdata(scores)"
   ]
  },
  {
   "cell_type": "markdown",
   "metadata": {},
   "source": [
    "The best features are: plas, mass and skin."
   ]
  },
  {
   "cell_type": "markdown",
   "metadata": {},
   "source": [
    "### Example 2:  Bupa dataset\n",
    "####  Usando el reliefF de la ASU"
   ]
  },
  {
   "cell_type": "code",
   "execution_count": 152,
   "metadata": {},
   "outputs": [],
   "source": [
    "#load data\n",
    "url= \"http://academic.uprm.edu/eacuna/bupa.dat\"\n",
    "names = ['mcv', 'alkphos', 'sgpt', 'aspar', 'gammagt', 'drinks', 'class']\n",
    "data = pd.read_table(url, names=names,header=None)\n",
    "y=data['class']\n",
    "X=data.iloc[:,0:6]\n",
    "y1=y.to_numpy()\n",
    "X1=X.to_numpy()\n",
    "features, labels = X.values, data['class'].values"
   ]
  },
  {
   "cell_type": "code",
   "execution_count": 153,
   "metadata": {},
   "outputs": [
    {
     "name": "stdout",
     "output_type": "stream",
     "text": [
      "[ 48.4  78.2 276.2 142.2 209.6  90.5] [2 4 3 5 1 0]\n"
     ]
    }
   ],
   "source": [
    "score_relief=reliefF(X1,y1)\n",
    "feat=feature_ranking(score_relief)\n",
    "print(score_relief,feat)"
   ]
  },
  {
   "cell_type": "markdown",
   "metadata": {},
   "source": [
    "El Relief de ASU recomienda sgpt, gammagt,aspar  como las mejores predictoras"
   ]
  },
  {
   "cell_type": "markdown",
   "metadata": {},
   "source": [
    "#### Usando skrebate"
   ]
  },
  {
   "cell_type": "code",
   "execution_count": 154,
   "metadata": {},
   "outputs": [
    {
     "name": "stdout",
     "output_type": "stream",
     "text": [
      "<class 'pandas.core.frame.DataFrame'>\n",
      "RangeIndex: 345 entries, 0 to 344\n",
      "Data columns (total 6 columns):\n",
      " #   Column   Non-Null Count  Dtype  \n",
      "---  ------   --------------  -----  \n",
      " 0   mcv      345 non-null    int64  \n",
      " 1   alkphos  345 non-null    int64  \n",
      " 2   sgpt     345 non-null    int64  \n",
      " 3   aspar    345 non-null    int64  \n",
      " 4   gammagt  345 non-null    int64  \n",
      " 5   drinks   345 non-null    float64\n",
      "dtypes: float64(1), int64(5)\n",
      "memory usage: 16.3 KB\n"
     ]
    }
   ],
   "source": [
    "df=data.drop('class',axis=1)\n",
    "#Normalizando las predictoras\n",
    "df_norm=(df - df.min()) / (df.max() - df.min())\n",
    "features, labels = df_norm.values, data['class'].values\n",
    "df.info()"
   ]
  },
  {
   "cell_type": "code",
   "execution_count": 155,
   "metadata": {},
   "outputs": [
    {
     "name": "stdout",
     "output_type": "stream",
     "text": [
      "mcv 0.0028375286041189907\n",
      "alkphos -0.0006200378071833658\n",
      "sgpt 0.005445820136289467\n",
      "aspar 0.0033427442123094295\n",
      "gammagt 0.004875918205280923\n",
      "drinks 0.00485507246376812\n"
     ]
    }
   ],
   "source": [
    "fs = ReliefF(n_neighbors=10)\n",
    "fs.fit(features, labels)\n",
    "for feature_name, feature_score in zip(data.columns,fs.feature_importances_):\n",
    "    print (feature_name, feature_score)"
   ]
  },
  {
   "cell_type": "markdown",
   "metadata": {},
   "source": [
    "El relielf de skrebate recomienda gammagt, aspar and sgpt "
   ]
  },
  {
   "cell_type": "markdown",
   "metadata": {},
   "source": [
    "### Example 3: Breast-cancer-Wisconsin"
   ]
  },
  {
   "cell_type": "code",
   "execution_count": 156,
   "metadata": {},
   "outputs": [],
   "source": [
    "data = pd.read_table(\"https://academic.uprm.edu/eacuna/breast-cancer-wisconsin.data\", header=None,sep=\",\",na_values=\"?\")\n",
    "data=data.fillna(data.mean())\n",
    "y=data.iloc[:,10]\n",
    "X=data.iloc[:,1:10]\n",
    "y1=y.to_numpy()\n",
    "X1=X.to_numpy()\n",
    "features, labels = X.values, y.values\n",
    "X_train, X_test, y_train, y_test = train_test_split(features, labels)"
   ]
  },
  {
   "cell_type": "code",
   "execution_count": 157,
   "metadata": {},
   "outputs": [
    {
     "name": "stdout",
     "output_type": "stream",
     "text": [
      "[1338.2    806.4    789.6    677.2    404.2   1558.917  695.6    831.\n",
      "  317.8  ] [5 0 7 1 2 6 3 4 8]\n"
     ]
    }
   ],
   "source": [
    "#usando Relief de la ASU\n",
    "score_relief=reliefF(X1,y1)\n",
    "feat=feature_ranking(score_relief)\n",
    "print(score_relief,feat)"
   ]
  },
  {
   "cell_type": "code",
   "execution_count": 158,
   "metadata": {},
   "outputs": [
    {
     "name": "stdout",
     "output_type": "stream",
     "text": [
      "Feature scores for best ten features (scored individually):\n",
      "0.558 Clump\n",
      "0.222 Unif_Cell_Size\n",
      "0.208 Unif_Cell_Shape\n",
      "0.126 Marginal_Adh\n",
      "0.162 Single_Cell_Size\n",
      "0.660 Bare_Nuclei\n",
      "0.526 Bland_Chromatine\n",
      "0.386 Normal_Nucleoi\n",
      "0.062 Mitoses\n"
     ]
    }
   ],
   "source": [
    "#Usando el Relief de Orange\n",
    "import Orange\n",
    "df = Orange.data.Table(\"https://academic.uprm.edu/eacuna/breast-cancer-wisconsin.tab\")\n",
    "#ReliefF usando 10 vecinos mas cercanos y  una muestrd m=400 para updating de los pesos\n",
    "print('Feature scores for best ten features (scored individually):')\n",
    "meas =Orange.preprocess.score.ReliefF(n_iterations=500,k_nearest=1)\n",
    "scores = meas(df)\n",
    "for attr, score in zip(df.domain.attributes, scores):\n",
    "    print('%.3f' % score, attr.name)\n"
   ]
  },
  {
   "cell_type": "markdown",
   "metadata": {},
   "source": [
    "Comment:The best attributes are:6(Bare Nuclei),1 (Clump Thickness),7 (Bland Chromatin), 8 (Normal. nucleoli)"
   ]
  },
  {
   "cell_type": "markdown",
   "metadata": {},
   "source": [
    "#### Example 4: Landsat Dataset"
   ]
  },
  {
   "cell_type": "code",
   "execution_count": 159,
   "metadata": {},
   "outputs": [],
   "source": [
    "url='http://academic.uprm.edu/eacuna/landsat.txt'\n",
    "data = pd.read_csv(url, header=None,delim_whitespace=True)\n",
    "y=data.iloc[:,36]\n",
    "X=data.iloc[:,0:36]\n",
    "y1=y.to_numpy()\n",
    "X1=X.to_numpy()\n",
    "features, labels = X.values, y.values\n",
    "X_train, X_test, y_train, y_test = train_test_split(features, labels)"
   ]
  },
  {
   "cell_type": "markdown",
   "metadata": {},
   "source": [
    "### Using Relief from skfeature (ASU)"
   ]
  },
  {
   "cell_type": "code",
   "execution_count": 160,
   "metadata": {
    "scrolled": true
   },
   "outputs": [
    {
     "name": "stdout",
     "output_type": "stream",
     "text": [
      "[ 931881.69  1212888.527  919748.174 1066507.071  901525.961 1158353.838\n",
      "  837512.719 1014302.975  980019.422 1336732.811  897140.507 1213034.735\n",
      "  983868.373 1255532.866  892416.054 1060845.144  958517.655 1256521.633\n",
      "  842926.353 1005087.655 1026311.977 1374800.346  785998.872 1060047.659\n",
      "  998413.289 1336119.206  878044.261 1054067.506  944096.928 1308500.312\n",
      "  813381.898  988394.951  981562.122 1366299.949  845803.921 1113257.089] [21 33  9 25 29 17 13 11  1  5 35  3 15 23 27 20  7 19 24 31 12 32  8 16\n",
      " 28  0  2  4 10 14 26 34 18  6 30 22]\n"
     ]
    }
   ],
   "source": [
    "#usando Relief de la ASU\n",
    "score_relief=reliefF(X_train,y_train)\n",
    "feat=feature_ranking(score_relief)\n",
    "print(score_relief,feat)"
   ]
  },
  {
   "cell_type": "markdown",
   "metadata": {},
   "source": [
    "Comment:The best attributes are:26,14,34,22,30,2,10,18,6,28"
   ]
  },
  {
   "cell_type": "markdown",
   "metadata": {},
   "source": [
    "### Using Relief from Orange"
   ]
  },
  {
   "cell_type": "code",
   "execution_count": 161,
   "metadata": {
    "scrolled": true
   },
   "outputs": [
    {
     "name": "stdout",
     "output_type": "stream",
     "text": [
      "Feature scores  (scored individually):\n",
      "0.112 a1\n",
      "0.087 a2\n",
      "0.074 a3\n",
      "0.065 a4\n",
      "0.112 a5\n",
      "0.077 a6\n",
      "0.056 a7\n",
      "0.058 a8\n",
      "0.109 a9\n",
      "0.085 a10\n",
      "0.055 a11\n",
      "0.065 a12\n",
      "0.126 a13\n",
      "0.101 a14\n",
      "0.073 a15\n",
      "0.077 a16\n",
      "0.122 a17\n",
      "0.098 a18\n",
      "0.072 a19\n",
      "0.067 a20\n",
      "0.118 a21\n",
      "0.094 a22\n",
      "0.059 a23\n",
      "0.068 a24\n",
      "0.121 a25\n",
      "0.097 a26\n",
      "0.076 a27\n",
      "0.072 a28\n",
      "0.116 a29\n",
      "0.098 a30\n",
      "0.063 a31\n",
      "0.063 a32\n",
      "0.119 a33\n",
      "0.092 a34\n",
      "0.062 a35\n",
      "0.067 a36\n"
     ]
    }
   ],
   "source": [
    "#Usando el Relief de Orange\n",
    "import Orange\n",
    "df = Orange.data.Table(\"https://academic.uprm.edu/eacuna/landsat.tab\")\n",
    "print('Feature scores  (scored individually):')\n",
    "#ReliefF usando 10 vecinos mas cercanos y  una muestrd m=3000 para updating de los pesos\n",
    "meas =Orange.preprocess.score.ReliefF(n_iterations=3000,k_nearest=10)\n",
    "scores = meas(df)\n",
    "for attr, score in zip(df.domain.attributes, scores):\n",
    "    print('%.3f' % score, attr.name)\n"
   ]
  },
  {
   "cell_type": "code",
   "execution_count": 162,
   "metadata": {},
   "outputs": [
    {
     "data": {
      "text/plain": [
       "array([30., 21., 16.,  9., 29., 19.,  2.,  3., 28., 20.,  1.,  8., 36.,\n",
       "       27., 15., 18., 35., 25., 14., 11., 32., 23.,  4., 12., 34., 24.,\n",
       "       17., 13., 31., 26.,  6.,  7., 33., 22.,  5., 10.])"
      ]
     },
     "execution_count": 162,
     "metadata": {},
     "output_type": "execute_result"
    }
   ],
   "source": [
    "#ordenando los scores\n",
    "ss.rankdata(scores)"
   ]
  },
  {
   "cell_type": "markdown",
   "metadata": {},
   "source": [
    "Comment:The best attributes are:a13,a25,a17,a21,a33,a29,a1,a5,a9"
   ]
  },
  {
   "cell_type": "markdown",
   "metadata": {},
   "source": [
    "### V. Applying Relief to a dataset with mixed type of attributes"
   ]
  },
  {
   "cell_type": "code",
   "execution_count": 169,
   "metadata": {},
   "outputs": [
    {
     "data": {
      "text/plain": [
       "[[Hombre, 3, No, 17, 2500, ... | No],\n",
       " [Mujer, 5, Si, 10, 3000, ... | Si],\n",
       " [Mujer, 4, No, 15, 2000, ... | No],\n",
       " [Hombre, 3, Si, 16, 2800, ... | Si],\n",
       " [Hombre, 6, Si, 11, 4000, ... | Si],\n",
       " ...\n",
       "]"
      ]
     },
     "execution_count": 169,
     "metadata": {},
     "output_type": "execute_result"
    }
   ],
   "source": [
    "import Orange\n",
    "df = Orange.data.Table(\"https://academic.uprm.edu/eacuna/loan.tab\")\n",
    "df"
   ]
  },
  {
   "cell_type": "code",
   "execution_count": 170,
   "metadata": {},
   "outputs": [],
   "source": [
    "meas =Orange.preprocess.score.ReliefF(n_iterations=2000,k_nearest=10)\n",
    "scores = meas(df)"
   ]
  },
  {
   "cell_type": "code",
   "execution_count": 171,
   "metadata": {},
   "outputs": [
    {
     "name": "stdout",
     "output_type": "stream",
     "text": [
      "0.074 Sexo\n",
      "-0.011 Familia\n",
      "0.012 CasPropia\n",
      "0.017 AnosEmpleo\n",
      "0.063 Sueldo\n",
      "0.120 StatustMarital\n"
     ]
    }
   ],
   "source": [
    "for attr, score in zip(df.domain.attributes, scores):\n",
    "    print('%.3f' % score, attr.name)"
   ]
  },
  {
   "cell_type": "code",
   "execution_count": 172,
   "metadata": {},
   "outputs": [
    {
     "name": "stdout",
     "output_type": "stream",
     "text": [
      "Feature scores (scored individually):\n",
      "0.011 age\n",
      "0.102 gender\n",
      "0.158 chest pain\n",
      "0.015 rest SBP\n",
      "-0.006 cholesterol\n",
      "0.013 fasting blood sugar > 120\n",
      "0.071 rest ECG\n",
      "0.027 max HR\n",
      "0.063 exerc ind ang\n",
      "0.022 ST by exercise\n",
      "0.075 slope peak exc ST\n",
      "0.090 major vessels colored\n",
      "0.120 thal\n"
     ]
    }
   ],
   "source": [
    "#Usando el Relief de Orange\n",
    "import Orange\n",
    "df = Orange.data.Table(\"https://academic.uprm.edu/eacuna/heart_disease.tab\")\n",
    "print('Feature scores (scored individually):')\n",
    "#ReliefF usando 10 vecinos mas cercanos y  una muestrd m=200 ara updating de los pesos\n",
    "meas =Orange.preprocess.score.ReliefF(n_iterations=200,k_nearest=10)\n",
    "scores = meas(df)\n",
    "for attr, score in zip(df.domain.attributes, scores):\n",
    "    print('%.3f' % score, attr.name)\n"
   ]
  },
  {
   "cell_type": "code",
   "execution_count": 173,
   "metadata": {},
   "outputs": [
    {
     "data": {
      "text/plain": [
       "array([ 2., 11., 13.,  4.,  1.,  3.,  8.,  6.,  7.,  5.,  9., 10., 12.])"
      ]
     },
     "execution_count": 173,
     "metadata": {},
     "output_type": "execute_result"
    }
   ],
   "source": [
    "#ordenando los scores\n",
    "ss.rankdata(scores)"
   ]
  },
  {
   "cell_type": "markdown",
   "metadata": {},
   "source": [
    "The best features are: chest pain, thal, major vessels colored, gender"
   ]
  },
  {
   "cell_type": "code",
   "execution_count": null,
   "metadata": {},
   "outputs": [],
   "source": []
  }
 ],
 "metadata": {
  "kernelspec": {
   "display_name": "Python 3",
   "language": "python",
   "name": "python3"
  },
  "language_info": {
   "codemirror_mode": {
    "name": "ipython",
    "version": 3
   },
   "file_extension": ".py",
   "mimetype": "text/x-python",
   "name": "python",
   "nbconvert_exporter": "python",
   "pygments_lexer": "ipython3",
   "version": "3.7.6"
  }
 },
 "nbformat": 4,
 "nbformat_minor": 2
}
